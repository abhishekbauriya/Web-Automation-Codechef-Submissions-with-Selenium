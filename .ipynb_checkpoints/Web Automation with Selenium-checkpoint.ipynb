{
 "cells": [
  {
   "cell_type": "markdown",
   "id": "round-eleven",
   "metadata": {},
   "source": [
    "# Web Automation - Selenium"
   ]
  },
  {
   "cell_type": "markdown",
   "id": "former-maximum",
   "metadata": {},
   "source": [
    "- <b>Task</b>: Automatically submit the code for a problem on codechef"
   ]
  },
  {
   "cell_type": "markdown",
   "id": "metropolitan-meeting",
   "metadata": {},
   "source": [
    "#### Installation"
   ]
  },
  {
   "cell_type": "markdown",
   "id": "japanese-copyright",
   "metadata": {},
   "source": [
    "- <b>To install python bindings for selenium</b>\n",
    "        pip install selenium"
   ]
  },
  {
   "cell_type": "markdown",
   "id": "perfect-schedule",
   "metadata": {},
   "source": [
    "- <b>To install webdriver</b>\n",
    "\n",
    "http://selenium-python.readthedocs.io/installation.html#drivers\n",
    "\n",
    "https://chromedriver.storage.googleapis.com/index.html?path=88.0.4324.96/\n",
    "\n",
    "- Then put the extracted file i.e.exe file in <b>C:\\Users\\ABHISHEK-PC\\AppData\\Local\\Programs\\Python\\Python39\\Scripts</b>"
   ]
  },
  {
   "cell_type": "markdown",
   "id": "textile-premises",
   "metadata": {},
   "source": [
    "<b>To start a browser session</b>\n",
    "\n",
    "        from selenium import webdriver\n",
    "        browser = webdriver.Chrome()"
   ]
  },
  {
   "cell_type": "markdown",
   "id": "superb-flight",
   "metadata": {},
   "source": [
    "<b>To open a webpage</b>\n",
    "\n",
    "        browser.get('https://www.codechef.com')"
   ]
  },
  {
   "cell_type": "markdown",
   "id": "conceptual-diabetes",
   "metadata": {},
   "source": [
    "<b>To select an element by its id</b>\n",
    "\n",
    "        browser.find_element_by_id(<id>)"
   ]
  },
  {
   "cell_type": "markdown",
   "id": "organic-influence",
   "metadata": {},
   "source": [
    "<b>Input value in element</b>\n",
    "    \n",
    "        element.send_keys()"
   ]
  },
  {
   "cell_type": "markdown",
   "id": "unlike-length",
   "metadata": {},
   "source": [
    "<b>Click on an element</b>\n",
    "\n",
    "        element.click()"
   ]
  },
  {
   "cell_type": "code",
   "execution_count": 21,
   "id": "psychological-button",
   "metadata": {},
   "outputs": [],
   "source": [
    "from selenium import webdriver"
   ]
  },
  {
   "cell_type": "code",
   "execution_count": 22,
   "id": "dated-kenya",
   "metadata": {},
   "outputs": [],
   "source": [
    "browser = webdriver.Chrome()"
   ]
  },
  {
   "cell_type": "code",
   "execution_count": 23,
   "id": "unlimited-garden",
   "metadata": {},
   "outputs": [],
   "source": [
    "browser.get(\"https://codechef.com\")"
   ]
  },
  {
   "cell_type": "code",
   "execution_count": 24,
   "id": "actual-medline",
   "metadata": {},
   "outputs": [],
   "source": [
    "username_element = browser.find_element_by_id(\"edit-name\")"
   ]
  },
  {
   "cell_type": "code",
   "execution_count": 25,
   "id": "impossible-metabolism",
   "metadata": {},
   "outputs": [],
   "source": [
    "username_element.send_keys(\"abhishekumar94\")"
   ]
  },
  {
   "cell_type": "code",
   "execution_count": 26,
   "id": "upper-graph",
   "metadata": {},
   "outputs": [],
   "source": [
    "password_element = browser.find_element_by_id(\"edit-pass\")"
   ]
  },
  {
   "cell_type": "code",
   "execution_count": 27,
   "id": "separated-converter",
   "metadata": {},
   "outputs": [],
   "source": [
    "from getpass import getpass"
   ]
  },
  {
   "cell_type": "code",
   "execution_count": 28,
   "id": "secret-newport",
   "metadata": {},
   "outputs": [
    {
     "name": "stdout",
     "output_type": "stream",
     "text": [
      "Enter password: ········\n"
     ]
    }
   ],
   "source": [
    "password_element .send_keys(getpass(\"Enter password: \"))"
   ]
  },
  {
   "cell_type": "code",
   "execution_count": 29,
   "id": "eligible-ratio",
   "metadata": {},
   "outputs": [],
   "source": [
    "browser.find_element_by_id(\"edit-submit\").click()"
   ]
  },
  {
   "cell_type": "code",
   "execution_count": 32,
   "id": "provincial-coaching",
   "metadata": {},
   "outputs": [],
   "source": [
    "browser.get(\"https://www.codechef.com/submit/TEST\")"
   ]
  },
  {
   "cell_type": "code",
   "execution_count": 33,
   "id": "speaking-clerk",
   "metadata": {},
   "outputs": [],
   "source": [
    "browser.find_element_by_id(\"edit_area_toggle_checkbox_edit-program\").click()"
   ]
  },
  {
   "cell_type": "code",
   "execution_count": 34,
   "id": "hindu-steel",
   "metadata": {},
   "outputs": [],
   "source": [
    "with open(\"solutions.cpp\", 'r') as f:\n",
    "    code = f.read()"
   ]
  },
  {
   "cell_type": "code",
   "execution_count": 35,
   "id": "prepared-stocks",
   "metadata": {},
   "outputs": [
    {
     "data": {
      "text/plain": [
       "\"#include <iostream>\\n\\n\\nint main(void) {\\nchar c, d=10;\\nwhile(std::cin.get(c) && (c!='2' || d!='4') && std::cout.put(d))\\nd=c;\\n}\""
      ]
     },
     "execution_count": 35,
     "metadata": {},
     "output_type": "execute_result"
    }
   ],
   "source": [
    "code"
   ]
  },
  {
   "cell_type": "code",
   "execution_count": 36,
   "id": "swedish-python",
   "metadata": {},
   "outputs": [],
   "source": [
    "code_element = browser.find_element_by_id('edit-program')"
   ]
  },
  {
   "cell_type": "code",
   "execution_count": 37,
   "id": "thorough-convertible",
   "metadata": {},
   "outputs": [],
   "source": [
    "code_element.send_keys(code)"
   ]
  },
  {
   "cell_type": "code",
   "execution_count": 38,
   "id": "olive-tamil",
   "metadata": {},
   "outputs": [],
   "source": [
    "browser.find_element_by_xpath('//*[@id=\"edit-language\"]/option[1]').click()"
   ]
  },
  {
   "cell_type": "code",
   "execution_count": 39,
   "id": "superb-visitor",
   "metadata": {},
   "outputs": [],
   "source": [
    "browser.find_element_by_id('edit-submit').click()"
   ]
  }
 ],
 "metadata": {
  "kernelspec": {
   "display_name": "Python 3",
   "language": "python",
   "name": "python3"
  },
  "language_info": {
   "codemirror_mode": {
    "name": "ipython",
    "version": 3
   },
   "file_extension": ".py",
   "mimetype": "text/x-python",
   "name": "python",
   "nbconvert_exporter": "python",
   "pygments_lexer": "ipython3",
   "version": "3.9.1"
  }
 },
 "nbformat": 4,
 "nbformat_minor": 5
}
